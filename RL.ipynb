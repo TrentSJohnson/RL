{
 "cells": [
  {
   "cell_type": "code",
   "execution_count": 1,
   "metadata": {},
   "outputs": [],
   "source": [
    "import torch\n",
    "import torch.nn as nn\n",
    "import torch.nn.functional as F\n",
    "import torch.optim as optim\n",
    "import numpy as np"
   ]
  },
  {
   "cell_type": "code",
   "execution_count": 14,
   "metadata": {},
   "outputs": [
    {
     "name": "stdout",
     "output_type": "stream",
     "text": [
      "Net(\n",
      "  (fc1): Linear(in_features=1, out_features=2, bias=True)\n",
      "  (fc2): Linear(in_features=2, out_features=2, bias=True)\n",
      "  (fc3): Linear(in_features=2, out_features=3, bias=True)\n",
      ")\n"
     ]
    }
   ],
   "source": [
    "class Net(nn.Module):\n",
    "\n",
    "    def __init__(self,input,hidden,output):\n",
    "        super(Net, self).__init__()\n",
    "        self.fc1 = nn.Linear(input,hidden)  \n",
    "        self.fc2 = nn.Linear(hidden,hidden)\n",
    "        self.fc3 = nn.Linear(hidden,output)\n",
    "        \n",
    "    def forward(self, x):\n",
    "        x = F.sigmoid(self.fc1(x))\n",
    "        x = F.sigmoid(self.fc2(x))\n",
    "        x = self.fc3(x)\n",
    "        return x\n",
    "print(Net(1,2,3))"
   ]
  },
  {
   "cell_type": "code",
   "execution_count": 11,
   "metadata": {},
   "outputs": [],
   "source": [
    "class Memory:\n",
    "    def __init__(self,size=1000):\n",
    "        self.size = size\n",
    "        self.memory = []\n",
    "    \n",
    "    def add_memories(self, mems):\n",
    "        \n",
    "        for mem in mems:\n",
    "            self.memory.append(mem)\n",
    "        for i in range(max(len(self.memory)-self.size, 0)):\n",
    "            self.memory.pop(0)\n",
    "            \n",
    "    def add_memory(self, mem):\n",
    "        self.add_memories([mem])       \n",
    "\n",
    "\n",
    "    \n",
    "    def get_memories(self,num_mems=100,upto=True):\n",
    "        num_mems = min(len(self.memory),num_mems) if upto else num_mems\n",
    "        if num_mems == 0 :\n",
    "            return []\n",
    "        mems = []\n",
    "        mem_inds = []\n",
    "        \n",
    "        for i in range(num_mems):\n",
    "            mem, mem_ind = self.get_prior_mem()\n",
    "            mems.append(mem)\n",
    "            mem_inds.append(mem_ind)\n",
    "        return mems, mem_inds\n",
    "    \n",
    "    def get_mem(self):\n",
    "        ind = int(np.random.random()*len(self.memory))\n",
    "        return self.memory[ind][0], ind\n",
    "    \n",
    "    def get_prior_mem(self):\n",
    "        #print('getting',self.memory)\n",
    "        losses = [mem[1] for mem in self.memory]\n",
    "        total = sum(losses)\n",
    "        rand = np.random.random()\n",
    "        running_total = 0\n",
    "        for mem_ind in range(len(self.memory)):\n",
    "            mem = self.memory[mem_ind]\n",
    "            running_total += mem[1]/total\n",
    "            if running_total > rand:\n",
    "                return mem[0], mem_ind\n",
    "            \n",
    "    def update_loss(self,index,new_loss):\n",
    "        #print(self.memory[index] )\n",
    "        self.memory[index][1] = new_loss\n",
    "        \n",
    "    def update_losses(self,mem_inds,losses):\n",
    "        for mem_ind, loss in zip(mem_inds,losses):\n",
    "            self.update_loss(mem_ind,loss)\n",
    "        \n",
    "        \n",
    "    "
   ]
  },
  {
   "cell_type": "code",
   "execution_count": null,
   "metadata": {
    "scrolled": true
   },
   "outputs": [
    {
     "name": "stderr",
     "output_type": "stream",
     "text": [
      "  0%|          | 0/1000 [00:00<?, ?it/s]/Users/trentjohnson/opt/anaconda3/lib/python3.7/site-packages/torch/nn/functional.py:1351: UserWarning: nn.functional.sigmoid is deprecated. Use torch.sigmoid instead.\n",
      "  warnings.warn(\"nn.functional.sigmoid is deprecated. Use torch.sigmoid instead.\")\n",
      " 69%|██████▉   | 694/1000 [17:05<25:45,  5.05s/it]"
     ]
    }
   ],
   "source": [
    "import gym\n",
    "from tqdm import tqdm\n",
    "class RL_cartpole:\n",
    "    def __init__(self, model_func, env, observation_size, experience_size = 500, gamma = 0.9, epsilon_min = 0.01, epsilon_max = 0.5):\n",
    "         \n",
    "        self.env = env\n",
    "        self.memory = Memory(20000)\n",
    "        self.gamma = 0.9\n",
    "        self.epsilon_max = 0.5\n",
    "        self.epsilon = self.epsilon_max\n",
    "        self.epsilon_min = 0.01\n",
    "        self.criterion = F.mse_loss\n",
    "        self.observation_size = observation_size\n",
    "        self.log = []\n",
    "        self.experience_size = experience_size\n",
    "        self.action_size = env.action_space.n\n",
    "        self.model = model_func(self.observation_size,8,self.action_size)\n",
    "        self.optimizer = optim.SGD(self.model.parameters(), lr=0.01)\n",
    "        \n",
    "    def get_q_values(self,series):\n",
    "        q_values = []\n",
    "        discounted_reward = 0\n",
    "        states = []\n",
    "        for state, action, reward in series[::-1]:\n",
    "            #print(str(state))\n",
    "            if(not str(state) in states):\n",
    "                discounted_reward *= self.gamma\n",
    "                discounted_reward += reward\n",
    "                q_values.append([state, action, discounted_reward])\n",
    "                states.append(str(state))\n",
    "        return q_values\n",
    "    \n",
    "    def choose_action(self, pred_vales):\n",
    "        if np.random.random() < self.epsilon:\n",
    "            return self.env.action_space.sample()\n",
    "        return np.argmax(pred_vales.detach().numpy())\n",
    "            \n",
    "    def make_targets(self,action_values, preds):\n",
    "        preds_arr = preds.detach().numpy()\n",
    "        targets = []\n",
    "        for time_step in range(len(action_values)):\n",
    "            curr_target = []\n",
    "            for i in range(self.action_size):\n",
    "                if i != action_values[time_step][0]:\n",
    "                    curr_target.append(preds_arr[time_step][i])\n",
    "                else:\n",
    "                    curr_target.append(action_values[time_step][1])\n",
    "            targets.append(curr_target)\n",
    "        return torch.tensor(targets).float()\n",
    "        \n",
    "    def run(self, epochs):\n",
    "        self.log = []\n",
    "        self.losses = []\n",
    "        \n",
    "        epsilon_discount = (self.epsilon_min/self.epsilon_max)**(1/epochs)\n",
    "        for epoch in tqdm(range(epochs)):\n",
    "            pobservation = self.env.reset()\n",
    "            done = False\n",
    "            current_memory = []\n",
    "            total_reward = 0\n",
    "            while not done:\n",
    "               \n",
    "                pred_values = self.model(torch.tensor(pobservation).float())\n",
    "                action = self.choose_action(pred_values)\n",
    "                observation, reward, done, info = self.env.step(action)\n",
    "                current_memory.append([pobservation, action, reward])\n",
    "                pobservation = observation\n",
    "                total_reward += reward\n",
    "                \n",
    "            self.log.append(total_reward)\n",
    "            q_values = self.get_q_values(current_memory)\n",
    "            mems = []\n",
    "            inds = []\n",
    "            if len(self.memory.memory) > 0 and self.experience_size != 0:\n",
    "                mems, inds = self.memory.get_memories(self.experience_size)\n",
    "                q_values += mems\n",
    "            #print(q_values)\n",
    "            states = torch.tensor([exp[0] for exp in q_values]).float()\n",
    "\n",
    "            action_values = [[exp[1], exp[2]] for exp in q_values]\n",
    "            preds = self.model(states)\n",
    "            target = self.make_targets(action_values, preds)\n",
    "            \n",
    "            output = self.model(states)\n",
    "            self.optimizer.zero_grad()   # zero the gradient buffers\n",
    "            loss = self.criterion(output, target)\n",
    "            self.losses.append(loss.detach().numpy())\n",
    "            loss.backward()\n",
    "            self.optimizer.step()\n",
    "            loss_ind = [sum(i) for i in (target.detach().numpy()-output.detach().numpy())**2]\n",
    "            self.memory.add_memories([[q_values[i],loss_ind[i]] for i in range(len(current_memory))])\n",
    "            exp_loss_ind = loss_ind[len(loss_ind)-self.experience_size:]\n",
    "            self.memory.update_losses(inds, exp_loss_ind)\n",
    "            \n",
    "            self.epsilon *= epsilon_discount\n",
    "        return self.log, self.losses\n",
    "    \n",
    "    def show(self):\n",
    "        pobservation = self.env.reset()\n",
    "        done = False\n",
    "        current_memory = []\n",
    "        total_reward = 0\n",
    "        while not done:\n",
    "            self.env.render()\n",
    "            pred_values = self.model(torch.tensor(pobservation).float())\n",
    "            action = self.choose_action(pred_values)\n",
    "            observation, reward, done, info = self.env.step(action)\n",
    "            current_memory.append([pobservation, action, reward])\n",
    "            pobservation = observation\n",
    "            total_reward += reward\n",
    "        print(total_reward)\n",
    "        \n",
    "                \n",
    "                \n",
    "rl=RL_cartpole(Net,gym.make(\"CartPole-v1\"),4,gamma=0.9,experience_size=1000)\n",
    "log, losses = rl.run(1000)"
   ]
  },
  {
   "cell_type": "code",
   "execution_count": 25,
   "metadata": {},
   "outputs": [
    {
     "data": {
      "image/png": "[encoded data removed]",
      "text/plain": [
       "<Figure size 432x288 with 1 Axes>"
      ]
     },
     "metadata": {
      "needs_background": "light"
     },
     "output_type": "display_data"
    },
    {
     "data": {
      "image/png": "[encoded data removed]",
      "text/plain": [
       "<Figure size 432x288 with 1 Axes>"
      ]
     },
     "metadata": {
      "needs_background": "light"
     },
     "output_type": "display_data"
    }
   ],
   "source": [
    "import matplotlib.pyplot as plt\n",
    "plt.plot(range(len(losses)),losses)\n",
    "plt.show()\n",
    "\n",
    "plt.plot(range(len(rl.log)),rl.log)\n",
    "plt.show()"
   ]
  },
  {
   "cell_type": "code",
   "execution_count": null,
   "metadata": {},
   "outputs": [],
   "source": [
    "import gym\n",
    "from tqdm import tqdm\n",
    "class RL_mountain:\n",
    "    def __init__(self, model_func, env, observation_size, experience_size = 500, gamma = 0.9, epsilon_min = 0.01, epsilon_max = 0.5):\n",
    "         \n",
    "        self.env = env\n",
    "        self.memory = Memory(20000)\n",
    "        self.gamma = 0.9\n",
    "        self.epsilon_max = 0.5\n",
    "        self.epsilon = self.epsilon_max\n",
    "        self.epsilon_min = 0.01\n",
    "        self.criterion = F.mse_loss\n",
    "        self.observation_size = observation_size\n",
    "        self.log = []\n",
    "        self.experience_size = experience_size\n",
    "        self.action_size = env.action_space.n\n",
    "        self.model = model_func(self.observation_size,8,self.action_size)\n",
    "        self.optimizer = optim.SGD(self.model.parameters(), lr=0.01)\n",
    "        \n",
    "    def get_q_values(self,series):\n",
    "        q_values = []\n",
    "        discounted_reward = 0\n",
    "        states = []\n",
    "        for state, action, reward in series[::-1]:\n",
    "            print(state in states)\n",
    "            if(not state in states):\n",
    "                discounted_reward *= self.gamma\n",
    "                discounted_reward += reward\n",
    "                q_values.append([state, action, discounted_reward])\n",
    "                states.append(state)\n",
    "        return q_values\n",
    "    \n",
    "    def choose_action(self, pred_vales):\n",
    "        if np.random.random() < self.epsilon:\n",
    "            return self.env.action_space.sample()\n",
    "        return np.argmax(pred_vales.detach().numpy())\n",
    "            \n",
    "    def make_targets(self,action_values, preds):\n",
    "        preds_arr = preds.detach().numpy()\n",
    "        targets = []\n",
    "        for time_step in range(len(action_values)):\n",
    "            curr_target = []\n",
    "            for i in range(self.action_size):\n",
    "                if i != action_values[time_step][0]:\n",
    "                    curr_target.append(preds_arr[time_step][i])\n",
    "                else:\n",
    "                    curr_target.append(action_values[time_step][1])\n",
    "            targets.append(curr_target)\n",
    "        return torch.tensor(targets).float()\n",
    "        \n",
    "    def run(self, epochs):\n",
    "        self.log = []\n",
    "        self.losses = []\n",
    "        \n",
    "        epsilon_discount = (self.epsilon_min/self.epsilon_max)**(1/epochs)\n",
    "        for epoch in tqdm(range(epochs)):\n",
    "            pobservation = self.env.reset()\n",
    "            done = False\n",
    "            current_memory = []\n",
    "            total_reward = 0\n",
    "            while not done:\n",
    "                pred_values = self.model(torch.tensor(pobservation).float())\n",
    "                action = self.choose_action(pred_values)\n",
    "                observation, reward, done, info = self.env.step(action)\n",
    "                adj_reward = reward + observation[0]\n",
    "                current_memory.append([pobservation, action, adj_reward])\n",
    "                pobservation = observation\n",
    "                total_reward += adj_reward\n",
    "                \n",
    "            self.log.append(total_reward)\n",
    "            q_values = self.get_q_values(current_memory)\n",
    "            mems = []\n",
    "            inds = []\n",
    "            if len(self.memory.memory) > 0 and self.experience_size != 0:\n",
    "                mems, inds = self.memory.get_memories(self.experience_size)\n",
    "                q_values += mems\n",
    "            #print(q_values)\n",
    "            states = torch.tensor([exp[0] for exp in q_values]).float()\n",
    "\n",
    "            action_values = [[exp[1], exp[2]] for exp in q_values]\n",
    "            preds = self.model(states)\n",
    "            target = self.make_targets(action_values, preds)\n",
    "            \n",
    "            output = self.model(states)\n",
    "            self.optimizer.zero_grad()   # zero the gradient buffers\n",
    "            loss = self.criterion(output, target)\n",
    "            self.losses.append(loss.detach().numpy())\n",
    "            loss.backward()\n",
    "            self.optimizer.step()\n",
    "            loss_ind = [sum(i) for i in (target.detach().numpy()-output.detach().numpy())**2]\n",
    "            self.memory.add_memories([[q_values[i],loss_ind[i]] for i in range(len(current_memory))])\n",
    "            exp_loss_ind = loss_ind[len(loss_ind)-self.experience_size:]\n",
    "            self.memory.update_losses(inds, exp_loss_ind)\n",
    "            \n",
    "            self.epsilon *= epsilon_discount\n",
    "        return self.log, self.losses\n",
    "    \n",
    "    def show(self):\n",
    "        pobservation = self.env.reset()\n",
    "        done = False\n",
    "        current_memory = []\n",
    "        total_reward = 0\n",
    "        while not done:\n",
    "            self.env.render()\n",
    "            pred_values = self.model(torch.tensor(pobservation).float())\n",
    "            action = self.choose_action(pred_values)\n",
    "            observation, reward, done, info = self.env.step(action)\n",
    "            current_memory.append([pobservation, action, reward])\n",
    "            pobservation = observation\n",
    "            total_reward += reward\n",
    "        print(total_reward)\n",
    "        \n",
    "                \n",
    "                \n",
    "rl=RL(Net,gym.make(\"CartPole-v1\"),2,gamma=0.9,experience_size=1000)\n",
    "log, losses = rl.run(10)"
   ]
  },
  {
   "cell_type": "code",
   "execution_count": null,
   "metadata": {},
   "outputs": [],
   "source": [
    "import matplotlib.pyplot as plt\n",
    "plt.plot(range(len(rl.losses)),rl.losses)\n",
    "plt.show()\n",
    "\n",
    "plt.plot(range(len(rl.log)),rl.log)\n",
    "plt.show()"
   ]
  },
  {
   "cell_type": "code",
   "execution_count": null,
   "metadata": {},
   "outputs": [],
   "source": [
    "rl.show()"
   ]
  },
  {
   "cell_type": "code",
   "execution_count": null,
   "metadata": {},
   "outputs": [],
   "source": [
    "loger = rl.log"
   ]
  },
  {
   "cell_type": "code",
   "execution_count": null,
   "metadata": {},
   "outputs": [],
   "source": [
    "plt.plot(log[:600])\n",
    "plt.plot(range(len(loger)),loger,\"g\")\n",
    "plt.show()"
   ]
  },
  {
   "cell_type": "code",
   "execution_count": null,
   "metadata": {},
   "outputs": [],
   "source": [
    "env = gym.make(\"MountainCar-v0\")\n",
    "env.observation_space"
   ]
  },
  {
   "cell_type": "code",
   "execution_count": 7,
   "metadata": {},
   "outputs": [
    {
     "data": {
      "text/plain": [
       "3"
      ]
     },
     "execution_count": 7,
     "metadata": {},
     "output_type": "execute_result"
    }
   ],
   "source": [
    "env = gym.make(\"MountainCar-v0\")\n",
    "env.action_space.n"
   ]
  },
  {
   "cell_type": "code",
   "execution_count": 8,
   "metadata": {},
   "outputs": [
    {
     "data": {
      "text/plain": [
       "{0, 1, 2}"
      ]
     },
     "execution_count": 8,
     "metadata": {},
     "output_type": "execute_result"
    }
   ],
   "source": [
    "set([env.action_space.sample() for i in range(100)])"
   ]
  },
  {
   "cell_type": "code",
   "execution_count": null,
   "metadata": {},
   "outputs": [],
   "source": []
  }
 ],
 "metadata": {
  "kernelspec": {
   "display_name": "Python 3",
   "language": "python",
   "name": "python3"
  },
  "language_info": {
   "codemirror_mode": {
    "name": "ipython",
    "version": 3
   },
   "file_extension": ".py",
   "mimetype": "text/x-python",
   "name": "python",
   "nbconvert_exporter": "python",
   "pygments_lexer": "ipython3",
   "version": "3.7.4"
  }
 },
 "nbformat": 4,
 "nbformat_minor": 2
}
